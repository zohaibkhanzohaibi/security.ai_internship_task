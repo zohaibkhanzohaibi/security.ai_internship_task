{
 "cells": [
  {
   "cell_type": "markdown",
   "id": "b5b5b217",
   "metadata": {},
   "source": [
    "# loading saved model"
   ]
  },
  {
   "cell_type": "code",
   "execution_count": null,
   "id": "08b962de",
   "metadata": {},
   "outputs": [],
   "source": [
    "from transformers import AutoTokenizer, AutoModelForTokenClassification\n",
    "\n",
    "# Load the tokenizer and model\n",
    "tokenizer = AutoTokenizer.from_pretrained(\"./saved_model3\")\n",
    "model = AutoModelForTokenClassification.from_pretrained(\"./saved_model\")"
   ]
  },
  {
   "cell_type": "code",
   "execution_count": 7,
   "id": "2b0e7465",
   "metadata": {},
   "outputs": [
    {
     "name": "stderr",
     "output_type": "stream",
     "text": [
      "Device set to use cpu\n"
     ]
    }
   ],
   "source": [
    "from transformers import pipeline\n",
    "\n",
    "nlp = pipeline(\"ner\", model=model, tokenizer=tokenizer, aggregation_strategy=\"none\")\n",
    "\n"
   ]
  },
  {
   "cell_type": "markdown",
   "id": "dd913c52",
   "metadata": {},
   "source": [
    "# generating entity_tags from a sequence, to mask"
   ]
  },
  {
   "cell_type": "code",
   "execution_count": 58,
   "id": "117eb386",
   "metadata": {},
   "outputs": [
    {
     "name": "stdout",
     "output_type": "stream",
     "text": [
      "Entity: john, Label: B-PER\n",
      "Entity: doe, Label: I-PER\n",
      "Entity: john, Label: B-EMAIL\n",
      "Entity: ., Label: B-EMAIL\n",
      "Entity: doe, Label: B-EMAIL\n",
      "Entity: @, Label: B-EMAIL\n",
      "Entity: example, Label: B-EMAIL\n",
      "Entity: ., Label: B-EMAIL\n",
      "Entity: com, Label: B-EMAIL\n",
      "Entity: ., Label: B-EMAIL\n",
      "Entity: alan, Label: B-PER\n",
      "Entity: turing, Label: I-PER\n"
     ]
    }
   ],
   "source": [
    "# Example input sequence, can be any sentence of your choice\n",
    "sequence = \"John Doe's email is john.doe@example.com. You can reach him 24/7, or reach out to Alan Turing in Data Science Department.\"\n",
    "\n",
    "# Get NER predictions\n",
    "ner_results = nlp(sequence)\n",
    "\n",
    "# Display the results\n",
    "for entity in ner_results:\n",
    "    entity_label = entity.get('entity', entity.get('entity_group', 'N/A'))\n",
    "    print(f\"Entity: {entity['word']}, Label: {entity_label}\")\n",
    "\n"
   ]
  },
  {
   "cell_type": "markdown",
   "id": "831f9603",
   "metadata": {},
   "source": [
    "# masking the sentence based on model predictions"
   ]
  },
  {
   "cell_type": "code",
   "execution_count": 60,
   "id": "7daf78ed",
   "metadata": {},
   "outputs": [],
   "source": [
    "def mask_entities(model_output, sentence):\n",
    "    # Initialize the list to store the masked sentence characters\n",
    "    masked_sentence = list(sentence)\n",
    "    \n",
    "    i = 0\n",
    "    prev_mask = None  # Keep track of the previous mask to avoid repeating\n",
    "\n",
    "    while i < len(model_output):\n",
    "        entity = model_output[i]\n",
    "        entity_type = entity['entity']\n",
    "        start_idx = entity['start']\n",
    "        end_idx = entity['end']\n",
    "        word = entity['word']\n",
    "        \n",
    "        if entity_type == 'B-PER' or entity_type == 'I-PER':\n",
    "            # Replace the entire sequence of a person's name with [B-PER] and [I-PER]\n",
    "            while i + 1 < len(model_output) and model_output[i + 1]['entity'] == 'I-PER':\n",
    "                end_idx = model_output[i + 1]['end']\n",
    "                i += 1\n",
    "            # If the previous mask was not the same, update the mask\n",
    "            if prev_mask != '[B-PER]':\n",
    "                masked_sentence[start_idx] = '[B-PER]'\n",
    "            if prev_mask != '[I-PER]':\n",
    "                masked_sentence[start_idx+1:end_idx] = ['[I-PER]'] * (end_idx - start_idx - 1)\n",
    "\n",
    "            prev_mask = '[I-PER]'  # Mark that we've just used [I-PER] to combine bot begin and inner names to one.\n",
    "\n",
    "        elif entity_type == 'B-EMAIL':\n",
    "            # Replace the entire email sequence with [B-EMAIL]\n",
    "            while i + 1 < len(model_output) and model_output[i + 1]['entity'] == 'B-EMAIL':\n",
    "                end_idx = model_output[i + 1]['end']\n",
    "                i += 1\n",
    "            # If the previous mask was not the same, update the mask\n",
    "            if prev_mask != '[B-EMAIL]':\n",
    "                masked_sentence[start_idx:end_idx] = ['[B-EMAIL]'] * (end_idx - start_idx)\n",
    "\n",
    "            prev_mask = '[B-EMAIL]'  # Mark that we've just used [B-EMAIL] for email masking\n",
    "        \n",
    "        i += 1\n",
    "\n",
    "    # Remove consecutively repeated masks, \n",
    "    i = 0\n",
    "    while i < len(masked_sentence) - 1:\n",
    "        if masked_sentence[i] == masked_sentence[i + 1]:\n",
    "            masked_sentence.pop(i + 1)  # Remove the duplicate\n",
    "        else:\n",
    "            i += 1\n",
    "    \n",
    "    # Convert the list of characters back to a string\n",
    "    return ''.join(masked_sentence)"
   ]
  },
  {
   "cell_type": "code",
   "execution_count": 61,
   "id": "2ec9698a",
   "metadata": {},
   "outputs": [],
   "source": [
    "masked_sentence = mask_entities(ner_results, sequence)"
   ]
  },
  {
   "cell_type": "code",
   "execution_count": 62,
   "id": "566d8002",
   "metadata": {},
   "outputs": [
    {
     "name": "stdout",
     "output_type": "stream",
     "text": [
      "[B-PER][I-PER]'s email is [B-EMAIL] You can reach him 24/7, or reach out to [B-PER][I-PER] in Data Science Department.\n"
     ]
    }
   ],
   "source": [
    "print(masked_sentence)"
   ]
  },
  {
   "cell_type": "code",
   "execution_count": null,
   "id": "85ce433c",
   "metadata": {},
   "outputs": [],
   "source": []
  }
 ],
 "metadata": {
  "kernelspec": {
   "display_name": "Python 3 (ipykernel)",
   "language": "python",
   "name": "python3"
  },
  "language_info": {
   "codemirror_mode": {
    "name": "ipython",
    "version": 3
   },
   "file_extension": ".py",
   "mimetype": "text/x-python",
   "name": "python",
   "nbconvert_exporter": "python",
   "pygments_lexer": "ipython3",
   "version": "3.11.5"
  }
 },
 "nbformat": 4,
 "nbformat_minor": 5
}
