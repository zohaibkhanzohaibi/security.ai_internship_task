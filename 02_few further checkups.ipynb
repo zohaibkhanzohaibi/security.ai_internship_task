{
 "cells": [
  {
   "cell_type": "markdown",
   "id": "286f16bf",
   "metadata": {},
   "source": [
    "## Dataset was all clearly labelled with no null values. Random emails to training set but not to the test_data"
   ]
  },
  {
   "cell_type": "code",
   "execution_count": null,
   "id": "a0a33d75",
   "metadata": {},
   "outputs": [],
   "source": [
    "import json\n",
    "import pandas as pd\n",
    "import torch"
   ]
  },
  {
   "cell_type": "code",
   "execution_count": 4,
   "id": "7971df15",
   "metadata": {},
   "outputs": [],
   "source": [
    "def load_json_to_dataframe(file_path):\n",
    "    with open(file_path, 'r', encoding='utf-8') as f:\n",
    "        data = [json.loads(line) for line in f]\n",
    "    \n",
    "    return pd.DataFrame(data)\n",
    "\n",
    "def count_entity_tags(df):\n",
    "    tag_counts = Counter()\n",
    "    for tags in df[\"ner_tags\"]:\n",
    "        tag_counts.update(tags)\n",
    "    \n",
    "    return {\"B-EMAIL\": tag_counts.get(\"B-EMAIL\", 0), \"B-PER\": tag_counts.get(\"B-PER\", 0), \"I-PER\": tag_counts.get(\"I-PER\", 0)}\n"
   ]
  },
  {
   "cell_type": "code",
   "execution_count": 5,
   "id": "0d7a0096",
   "metadata": {},
   "outputs": [
    {
     "name": "stdout",
     "output_type": "stream",
     "text": [
      "Loaded DataFrame:\n"
     ]
    },
    {
     "data": {
      "text/html": [
       "<div>\n",
       "<style scoped>\n",
       "    .dataframe tbody tr th:only-of-type {\n",
       "        vertical-align: middle;\n",
       "    }\n",
       "\n",
       "    .dataframe tbody tr th {\n",
       "        vertical-align: top;\n",
       "    }\n",
       "\n",
       "    .dataframe thead th {\n",
       "        text-align: right;\n",
       "    }\n",
       "</style>\n",
       "<table border=\"1\" class=\"dataframe\">\n",
       "  <thead>\n",
       "    <tr style=\"text-align: right;\">\n",
       "      <th></th>\n",
       "      <th>sequence</th>\n",
       "      <th>tokens</th>\n",
       "      <th>ner_tags</th>\n",
       "    </tr>\n",
       "  </thead>\n",
       "  <tbody>\n",
       "    <tr>\n",
       "      <th>0</th>\n",
       "      <td>Since joe.montana@company.com then , only Terr...</td>\n",
       "      <td>[Since, joe.montana@company.com, then, ,, only...</td>\n",
       "      <td>[O, B-EMAIL, O, O, O, B-PER, I-PER, O, O, O, O...</td>\n",
       "    </tr>\n",
       "    <tr>\n",
       "      <th>1</th>\n",
       "      <td>He was portrayed alfredhitchcock@company.com b...</td>\n",
       "      <td>[He, was, portrayed, alfredhitchcock@company.c...</td>\n",
       "      <td>[O, O, O, B-EMAIL, O, B-PER, I-PER, O, O, O, O...</td>\n",
       "    </tr>\n",
       "    <tr>\n",
       "      <th>2</th>\n",
       "      <td>The sharptooth_random65@yahoo.com egg eventual...</td>\n",
       "      <td>[The, sharptooth_random65@yahoo.com, egg, even...</td>\n",
       "      <td>[O, B-EMAIL, O, O, O, O, O, O, O, B-PER, O]</td>\n",
       "    </tr>\n",
       "    <tr>\n",
       "      <th>3</th>\n",
       "      <td>In the video Kelis is walking down a street in...</td>\n",
       "      <td>[In, the, video, Kelis, is, walking, down, a, ...</td>\n",
       "      <td>[O, O, O, B-PER, O, O, O, O, O, O, O, O, O, O,...</td>\n",
       "    </tr>\n",
       "    <tr>\n",
       "      <th>4</th>\n",
       "      <td>According to food writer Sharon Tyler Herbst ,...</td>\n",
       "      <td>[According, to, food, writer, Sharon, Tyler, H...</td>\n",
       "      <td>[O, O, O, O, B-PER, I-PER, I-PER, O, O, O, O, ...</td>\n",
       "    </tr>\n",
       "  </tbody>\n",
       "</table>\n",
       "</div>"
      ],
      "text/plain": [
       "                                            sequence  \\\n",
       "0  Since joe.montana@company.com then , only Terr...   \n",
       "1  He was portrayed alfredhitchcock@company.com b...   \n",
       "2  The sharptooth_random65@yahoo.com egg eventual...   \n",
       "3  In the video Kelis is walking down a street in...   \n",
       "4  According to food writer Sharon Tyler Herbst ,...   \n",
       "\n",
       "                                              tokens  \\\n",
       "0  [Since, joe.montana@company.com, then, ,, only...   \n",
       "1  [He, was, portrayed, alfredhitchcock@company.c...   \n",
       "2  [The, sharptooth_random65@yahoo.com, egg, even...   \n",
       "3  [In, the, video, Kelis, is, walking, down, a, ...   \n",
       "4  [According, to, food, writer, Sharon, Tyler, H...   \n",
       "\n",
       "                                            ner_tags  \n",
       "0  [O, B-EMAIL, O, O, O, B-PER, I-PER, O, O, O, O...  \n",
       "1  [O, O, O, B-EMAIL, O, B-PER, I-PER, O, O, O, O...  \n",
       "2        [O, B-EMAIL, O, O, O, O, O, O, O, B-PER, O]  \n",
       "3  [O, O, O, B-PER, O, O, O, O, O, O, O, O, O, O,...  \n",
       "4  [O, O, O, O, B-PER, I-PER, I-PER, O, O, O, O, ...  "
      ]
     },
     "execution_count": 5,
     "metadata": {},
     "output_type": "execute_result"
    }
   ],
   "source": [
    "file_path = \"email_added_data.json\"  \n",
    "df = load_json_to_dataframe(file_path)\n",
    "print(\"Loaded DataFrame:\")\n",
    "df.head()"
   ]
  },
  {
   "cell_type": "code",
   "execution_count": 4,
   "id": "11c4b88b",
   "metadata": {},
   "outputs": [
    {
     "name": "stdout",
     "output_type": "stream",
     "text": [
      "Entity Counts:\n",
      "{'B-EMAIL': 20076, 'B-PER': 40264, 'I-PER': 29466}\n"
     ]
    }
   ],
   "source": [
    "# person token count same, email count added\n",
    "entity_counts = count_entity_tags(df)\n",
    "print(\"Entity Counts:\")\n",
    "print(entity_counts) "
   ]
  },
  {
   "cell_type": "code",
   "execution_count": 5,
   "id": "72e078e1",
   "metadata": {},
   "outputs": [
    {
     "name": "stdout",
     "output_type": "stream",
     "text": [
      "Rows Missing Entity Tags:\n",
      "{'Rows missing B-EMAIL': 14334, 'Rows missing B-PER': 3, 'Rows missing I-PER': 10363}\n"
     ]
    }
   ],
   "source": [
    "def count_rows_missing_tags(df):\n",
    "    missing_b_email = df[~df[\"ner_tags\"].apply(lambda tags: \"B-EMAIL\" in tags)].shape[0]\n",
    "    missing_b_per = df[~df[\"ner_tags\"].apply(lambda tags: \"B-PER\" in tags)].shape[0]\n",
    "    missing_i_per = df[~df[\"ner_tags\"].apply(lambda tags: \"I-PER\" in tags)].shape[0]\n",
    "    \n",
    "    return {\"Rows missing B-EMAIL\": missing_b_email, \"Rows missing B-PER\": missing_b_per, \"Rows missing I-PER\": missing_i_per}\n",
    "\n",
    "missing_tag_counts = count_rows_missing_tags(df)\n",
    "print(\"Rows Missing Entity Tags:\")\n",
    "print(missing_tag_counts)\n"
   ]
  },
  {
   "cell_type": "markdown",
   "id": "21b6cf30",
   "metadata": {},
   "source": [
    "## this shows out of 28,516 rows, 28,516 - 14,334 = 14,182 (roughly 50%) have email added to them in random manner.\n"
   ]
  },
  {
   "cell_type": "code",
   "execution_count": null,
   "id": "2e773eee",
   "metadata": {},
   "outputs": [],
   "source": []
  },
  {
   "cell_type": "code",
   "execution_count": null,
   "id": "1cd364a6",
   "metadata": {},
   "outputs": [],
   "source": []
  },
  {
   "cell_type": "code",
   "execution_count": null,
   "id": "a7a6c7c8",
   "metadata": {},
   "outputs": [],
   "source": [
    "\n"
   ]
  },
  {
   "cell_type": "code",
   "execution_count": null,
   "id": "149fa714",
   "metadata": {},
   "outputs": [],
   "source": []
  },
  {
   "cell_type": "code",
   "execution_count": null,
   "id": "5fe456f2",
   "metadata": {},
   "outputs": [],
   "source": []
  }
 ],
 "metadata": {
  "kernelspec": {
   "display_name": "Python 3 (ipykernel)",
   "language": "python",
   "name": "python3"
  },
  "language_info": {
   "codemirror_mode": {
    "name": "ipython",
    "version": 3
   },
   "file_extension": ".py",
   "mimetype": "text/x-python",
   "name": "python",
   "nbconvert_exporter": "python",
   "pygments_lexer": "ipython3",
   "version": "3.11.5"
  }
 },
 "nbformat": 4,
 "nbformat_minor": 5
}
