{
 "cells": [
  {
   "cell_type": "markdown",
   "id": "3d2c3261",
   "metadata": {},
   "source": [
    "## This LLM(gpt-neo1.3B) hallucinates alot. I could not recieve Llama access on time, else I would have tried with Llama too."
   ]
  },
  {
   "cell_type": "code",
   "execution_count": 26,
   "id": "cfef38c9",
   "metadata": {},
   "outputs": [
    {
     "name": "stderr",
     "output_type": "stream",
     "text": [
      "Device set to use cpu\n"
     ]
    }
   ],
   "source": [
    "from transformers import pipeline\n",
    "\n",
    "# Initialize the GPT-2 pipeline\n",
    "generator = pipeline(\"text-generation\", model= \"EleutherAI/gpt-neo-1.3B\")\n"
   ]
  },
  {
   "cell_type": "code",
   "execution_count": 35,
   "id": "a1dd1771",
   "metadata": {},
   "outputs": [
    {
     "name": "stderr",
     "output_type": "stream",
     "text": [
      "Setting `pad_token_id` to `eos_token_id`:50256 for open-end generation.\n"
     ]
    },
    {
     "name": "stdout",
     "output_type": "stream",
     "text": [
      "\n",
      "Identify and mask all names and email addresses in the following text by replacing them with placeholders. Use [NAME] for names and [EMAIL] for email addresses. Ensure the output preserves the original structure and readability of the text.\n",
      "\n",
      "Text: \n",
      "You can also contact Alan Turing at alan.turing@example.org. \n",
      "\n",
      "    \n",
      "\n",
      "1. Remove all content in the string including the \":\" and replace it with another placeholder.\n",
      "\n",
      "2. Use the Replace method of the Regular Expression.\n",
      "\n",
      "3. This will leave the name as is, but leave the email address.\n",
      "\n",
      "4. Finally replace the placeholder in the string with the actual email address.\n",
      "\n",
      "[email protected]:::\n",
      "\n",
      "\n"
     ]
    }
   ],
   "source": [
    "# Define the text you want to extract data from\n",
    "input_text = \"\"\"\n",
    "You can also contact Alan Turing at alan.turing@example.org. \n",
    "\"\"\"\n",
    "# Craft the prompt to instruct the model on what to do\n",
    "prompt = f\"\"\"\n",
    "Identify and mask all names and email addresses in the following text by replacing them with placeholders. Use [NAME] for names and [EMAIL] for email addresses. Ensure the output preserves the original structure and readability of the text.\n",
    "\n",
    "Text: {input_text}\n",
    "\"\"\"\n",
    "\n",
    "# Use the model to generate the response\n",
    "response = generator(prompt, max_length=200 , num_return_sequences=1)\n",
    "\n",
    "# Print the structured response\n",
    "print(response[0]['generated_text'])\n"
   ]
  },
  {
   "cell_type": "code",
   "execution_count": null,
   "id": "dd394df3",
   "metadata": {},
   "outputs": [],
   "source": []
  },
  {
   "cell_type": "code",
   "execution_count": 13,
   "id": "973ae219",
   "metadata": {},
   "outputs": [],
   "source": []
  },
  {
   "cell_type": "code",
   "execution_count": null,
   "id": "a929493c",
   "metadata": {},
   "outputs": [],
   "source": []
  }
 ],
 "metadata": {
  "kernelspec": {
   "display_name": "Python 3 (ipykernel)",
   "language": "python",
   "name": "python3"
  },
  "language_info": {
   "codemirror_mode": {
    "name": "ipython",
    "version": 3
   },
   "file_extension": ".py",
   "mimetype": "text/x-python",
   "name": "python",
   "nbconvert_exporter": "python",
   "pygments_lexer": "ipython3",
   "version": "3.11.5"
  }
 },
 "nbformat": 4,
 "nbformat_minor": 5
}
